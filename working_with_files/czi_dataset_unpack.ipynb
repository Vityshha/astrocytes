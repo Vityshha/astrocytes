{
 "cells": [
  {
   "metadata": {},
   "cell_type": "markdown",
   "source": [
    "# Распаковка czi файлов\n",
    "### Проходит по всем папкам в указанной директории и формирует датасет с астроцитами\n"
   ],
   "id": "ac26938f660f56ea"
  },
  {
   "metadata": {
    "ExecuteTime": {
     "end_time": "2025-03-03T12:55:42.397122Z",
     "start_time": "2025-03-03T12:55:42.356740Z"
    }
   },
   "cell_type": "code",
   "source": [
    "import os\n",
    "import cv2\n",
    "import numpy as np\n",
    "from pylibCZIrw import czi as pyczi"
   ],
   "id": "6225dab088ba637a",
   "outputs": [],
   "execution_count": 18
  },
  {
   "metadata": {
    "ExecuteTime": {
     "end_time": "2025-03-03T12:55:42.851622Z",
     "start_time": "2025-03-03T12:55:42.841007Z"
    }
   },
   "cell_type": "code",
   "source": [
    "def force_create_dir(directory):\n",
    "    os.makedirs(directory, exist_ok=True)"
   ],
   "id": "d0dddded1c718477",
   "outputs": [],
   "execution_count": 19
  },
  {
   "cell_type": "code",
   "id": "0354f5fa-cc86-4ddf-a3c4-951e532e7090",
   "metadata": {
    "ExecuteTime": {
     "end_time": "2025-03-03T13:04:02.375407Z",
     "start_time": "2025-03-03T13:04:02.362860Z"
    }
   },
   "source": [
    "czi_dir = r\"D:\\astrocytes\\астроциты_новые_данные\"\n",
    "output_dir = r\"C:\\Users\\Vityshha\\Desktop\\works\\astrocytes\\datasets\\astrocytes_new_data\"\n",
    "\n",
    "force_create_dir(output_dir)"
   ],
   "outputs": [],
   "execution_count": 26
  },
  {
   "cell_type": "code",
   "id": "ed1e37ee-cac2-4b95-b79d-dfafb4ddd7af",
   "metadata": {
    "ExecuteTime": {
     "end_time": "2025-03-03T13:04:20.737064Z",
     "start_time": "2025-03-03T13:04:03.366104Z"
    }
   },
   "source": [
    "for root, dirs, files in os.walk(czi_dir):\n",
    "    for czi_file in files:\n",
    "        try:\n",
    "            czi_path = os.path.join(root, czi_file)\n",
    "\n",
    "            print(f\"Обрабатывается файл: {czi_file}\")\n",
    "\n",
    "            with pyczi.open_czi(czi_path) as czidoc:\n",
    "                z_layers = czidoc.total_bounding_box.get(\"Z\", [0, 0])[1]\n",
    "                channels = czidoc.total_bounding_box.get(\"C\", [0, 0])[1]\n",
    "\n",
    "                saved_anything = False\n",
    "\n",
    "                for z in range(z_layers):\n",
    "                    try:\n",
    "                        img = czidoc.read(plane={\"T\": 0, \"Z\": z, \"C\": 1})\n",
    "                        img = (img.astype('float32') / np.max(img) * 255).astype('uint8')\n",
    "                        img = cv2.equalizeHist(img)\n",
    "\n",
    "                        # Создаем папку **только если удалось получить изображение**\n",
    "                        if not saved_anything:\n",
    "                            stack_path = os.path.join(output_dir, os.path.basename(root), os.path.splitext(czi_file)[0])\n",
    "                            force_create_dir(stack_path)\n",
    "                            saved_anything = True\n",
    "\n",
    "                        output_file = os.path.join(stack_path, f\"{os.path.splitext(czi_file)[0]}_{z}.png\")\n",
    "                        cv2.imwrite(output_file, img)\n",
    "\n",
    "                    except Exception as e:\n",
    "                        print(f\"Ошибка при обработке слоя {z} в файле {czi_file}: {e}\")\n",
    "\n",
    "        except Exception as e:\n",
    "            print(f\"Ошибка при открытии {czi_file}: {e}\")\n",
    "\n",
    "print(\"Обработка завершена!\")"
   ],
   "outputs": [
    {
     "name": "stdout",
     "output_type": "stream",
     "text": [
      "Обрабатывается файл: 2022.04.30_2ch_1.1_Image 1.czi\n",
      "Обрабатывается файл: 2022.04.30_2ch_1.2_Image 2.czi\n",
      "Обрабатывается файл: 2022.04.30_2ch_1.3_Image 3.czi\n",
      "Обрабатывается файл: 2022.05.06_1ch_3.1_Image 27.czi\n",
      "Обрабатывается файл: 2022.05.06_1ch_3.2_Image 30.czi\n",
      "Обрабатывается файл: 2022.05.06_1ch_3.3_Image 31.czi\n",
      "Обрабатывается файл: 2022.05.06_1ch_3.4_Image 32.czi\n",
      "Обрабатывается файл: 2022.05.24_5ch_4.1_Image 1.czi\n",
      "Обрабатывается файл: 2022.05.24_5ch_4.2_Image 2.czi\n",
      "Обрабатывается файл: 2022.05.24_5ch_4.3_Image 3.czi\n",
      "Обрабатывается файл: 2022.05.24_5ch_4.4_Image 5.czi\n",
      "Обрабатывается файл: 2022.05.24_5ch_4.5_Image 6.czi\n",
      "Обрабатывается файл: 2022.05.24_5ch_4.6_Image 7.czi\n",
      "Обработка завершена!\n"
     ]
    }
   ],
   "execution_count": 27
  },
  {
   "metadata": {},
   "cell_type": "code",
   "outputs": [],
   "execution_count": null,
   "source": "",
   "id": "781bc4b93aa7a984"
  }
 ],
 "metadata": {
  "kernelspec": {
   "display_name": "Python 3 (ipykernel)",
   "language": "python",
   "name": "python3"
  },
  "language_info": {
   "codemirror_mode": {
    "name": "ipython",
    "version": 3
   },
   "file_extension": ".py",
   "mimetype": "text/x-python",
   "name": "python",
   "nbconvert_exporter": "python",
   "pygments_lexer": "ipython3",
   "version": "3.9.21"
  }
 },
 "nbformat": 4,
 "nbformat_minor": 5
}
